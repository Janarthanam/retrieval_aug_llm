{
 "cells": [
  {
   "cell_type": "code",
   "execution_count": null,
   "id": "d133ab59",
   "metadata": {},
   "outputs": [],
   "source": [
    "%pip install doctran\n",
    "%pip install qdrant\n",
    "%pip install sentence-transformers\n",
    "%pip install pypdf\n",
    "%pip install spacy"
   ]
  },
  {
   "cell_type": "code",
   "execution_count": null,
   "id": "9c99ba91",
   "metadata": {},
   "outputs": [],
   "source": [
    "!python -m spacy download  en_core_web_sm"
   ]
  },
  {
   "cell_type": "code",
   "execution_count": 20,
   "id": "086c7682-5626-47c5-bcb1-8e1ed0d2d556",
   "metadata": {},
   "outputs": [],
   "source": [
    "from doctran import Doctran\n",
    "from qdrant_client import QdrantClient"
   ]
  },
  {
   "cell_type": "code",
   "execution_count": 21,
   "id": "bb637ddf",
   "metadata": {},
   "outputs": [],
   "source": [
    "client = QdrantClient(\":memory:\")"
   ]
  },
  {
   "cell_type": "code",
   "execution_count": null,
   "id": "c3578134",
   "metadata": {},
   "outputs": [],
   "source": [
    "from pypdf import PdfReader"
   ]
  },
  {
   "cell_type": "code",
   "execution_count": 22,
   "id": "00115667",
   "metadata": {},
   "outputs": [],
   "source": [
    "from pypdf import PdfReader\n",
    "import io\n",
    "import tqdm as notebook_tqdm\n",
    "\n",
    "pages = []\n",
    "with open(\"./api/association.pdf\", \"rb\") as f:\n",
    "    content = f.read()\n",
    "    reader = PdfReader(io.BytesIO(content))\n",
    "    for page in reader.pages:\n",
    "        pages.append(page.extract_text())"
   ]
  },
  {
   "cell_type": "code",
   "execution_count": null,
   "id": "8e7292d0",
   "metadata": {},
   "outputs": [],
   "source": [
    "from sentence_transformers import SentenceTransformer\n",
    "import spacy\n",
    "\n",
    "nlp = spacy.load(\"en_core_web_sm\")\n",
    "\n",
    "model = SentenceTransformer('sentence-transformers/all-MiniLM-L6-v2')\n",
    "for page in pages:\n",
    "    doc = nlp(page)\n",
    "    sentences = [s.text for s in doc.sents]\n",
    "    embeddings = model.encode(sentences)\n",
    "    print(f\"{len(embeddings)} for {len(sentences)}\")\n"
   ]
  },
  {
   "cell_type": "code",
   "execution_count": 23,
   "id": "c2ac9947",
   "metadata": {},
   "outputs": [],
   "source": [
    "from qdrant_client.models import VectorParams, Distance\n",
    "\n",
    "client.create_collection(\"Notebook\", vectors_config= VectorParams(size=model.get_sentence_embedding_dimension(),distance=Distance.COSINE))"
   ]
  },
  {
   "cell_type": "code",
   "execution_count": 31,
   "id": "bce3ee50",
   "metadata": {},
   "outputs": [
    {
     "name": "stdout",
     "output_type": "stream",
     "text": [
      "58 for 58\n",
      "44 for 44\n",
      "23 for 23\n",
      "17 for 17\n",
      "1 for 1\n",
      "16 for 16\n",
      "12 for 12\n",
      "11 for 11\n",
      "8 for 8\n",
      "16 for 16\n",
      "3 for 3\n",
      "16 for 16\n",
      "11 for 11\n",
      "13 for 13\n",
      "4 for 4\n"
     ]
    }
   ],
   "source": [
    "from sentence_transformers import SentenceTransformer\n",
    "import spacy\n",
    "from qdrant_client.http.models import PointStruct\n",
    "\n",
    "nlp = spacy.load(\"en_core_web_sm\")\n",
    "\n",
    "model = SentenceTransformer('sentence-transformers/all-MiniLM-L6-v2')\n",
    "for page in pages:\n",
    "    doc = nlp(page)\n",
    "    sentences = [s.text for s in doc.sents]\n",
    "    embeddings = model.encode(sentences)\n",
    "    client.upsert(collection_name=\"Notebook\", points = [ PointStruct(id=i,vector=embeddings[i].tolist(),payload={\"sent\":sent}) for i,sent in enumerate(sentences)])\n",
    "    print(f\"{len(embeddings)} for {len(sentences)}\")\n",
    "\n"
   ]
  },
  {
   "cell_type": "code",
   "execution_count": 34,
   "id": "fb124cf2",
   "metadata": {},
   "outputs": [
    {
     "name": "stdout",
     "output_type": "stream",
     "text": [
      "1 for [ScoredPoint(id=0, version=0, score=0.12582741132410996, payload={'sent': 'KAL Order 1973 - 1.11.1973 \\n \\nAmendments (Section-wise) \\n \\nSections  Act No. and year Remarks \\nTitle, Preamble KAL Order 1973 w.e.f. 1.11.1973 \\n1(1)(2) KAL Order 1973 w.e.f. 1.11.1973 \\n \\n \\n \\n '}, vector=None)]\n"
     ]
    }
   ],
   "source": [
    "embeddings = model.encode([\"What is an association?\"])\n",
    "results = client.search(\"Notebook\", embeddings[0].tolist())\n",
    "print(f\"{len(results)} for {results}\")"
   ]
  },
  {
   "cell_type": "code",
   "execution_count": 35,
   "id": "8fce2239",
   "metadata": {},
   "outputs": [
    {
     "data": {
      "text/plain": [
       "CollectionInfo(status=<CollectionStatus.GREEN: 'green'>, optimizer_status=<OptimizersStatusOneOf.OK: 'ok'>, vectors_count=1, indexed_vectors_count=0, points_count=1, segments_count=1, config=CollectionConfig(params=CollectionParams(vectors=VectorParams(size=384, distance=<Distance.COSINE: 'Cosine'>, hnsw_config=None, quantization_config=None, on_disk=None), shard_number=None, replication_factor=None, write_consistency_factor=None, on_disk_payload=None), hnsw_config=HnswConfig(m=16, ef_construct=100, full_scan_threshold=10000, max_indexing_threads=0, on_disk=None, payload_m=None), optimizer_config=OptimizersConfig(deleted_threshold=0.2, vacuum_min_vector_number=1000, default_segment_number=0, max_segment_size=None, memmap_threshold=None, indexing_threshold=20000, flush_interval_sec=5, max_optimization_threads=1), wal_config=WalConfig(wal_capacity_mb=32, wal_segments_ahead=0), quantization_config=None), payload_schema={})"
      ]
     },
     "execution_count": 35,
     "metadata": {},
     "output_type": "execute_result"
    }
   ],
   "source": [
    "client.get_collection(\"Notebook\")"
   ]
  }
 ],
 "metadata": {
  "kernelspec": {
   "display_name": "Python 3 (ipykernel)",
   "language": "python",
   "name": "python3"
  },
  "language_info": {
   "codemirror_mode": {
    "name": "ipython",
    "version": 3
   },
   "file_extension": ".py",
   "mimetype": "text/x-python",
   "name": "python",
   "nbconvert_exporter": "python",
   "pygments_lexer": "ipython3",
   "version": "3.11.3"
  }
 },
 "nbformat": 4,
 "nbformat_minor": 5
}
